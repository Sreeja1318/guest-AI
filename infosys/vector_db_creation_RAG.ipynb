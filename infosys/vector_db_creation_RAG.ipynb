{
 "cells": [
  {
   "cell_type": "code",
   "execution_count": null,
   "id": "74c1766f-ef00-4dd1-8e14-9d383a2e9583",
   "metadata": {},
   "outputs": [],
   "source": [
    "pip install together"
   ]
  },
  {
   "cell_type": "code",
   "execution_count": null,
   "id": "e4d25961-6a00-47ef-ab2c-b7e203baf31f",
   "metadata": {},
   "outputs": [],
   "source": [
    "pip install langchain_together"
   ]
  },
  {
   "cell_type": "code",
   "execution_count": null,
   "id": "13d2180d-61a7-4213-b703-012cc7d0c770",
   "metadata": {},
   "outputs": [],
   "source": [
    "from langchain_together import TogetherEmbeddings\n",
    "import pandas as pd\n",
    "import numpy as np"
   ]
  },
  {
   "cell_type": "code",
   "execution_count": null,
   "id": "a6399946-c1a1-4cc1-87c3-f0407c6c1135",
   "metadata": {},
   "outputs": [],
   "source": []
  },
  {
   "cell_type": "code",
   "execution_count": null,
   "id": "9a45720b-685c-46f1-be12-0dfea660c036",
   "metadata": {},
   "outputs": [],
   "source": [
    "df = pd.read_excel('reviews_data.xlsx')"
   ]
  },
  {
   "cell_type": "code",
   "execution_count": null,
   "id": "36c33ea1-46fb-4272-960e-697b2dac017f",
   "metadata": {},
   "outputs": [],
   "source": [
    "df"
   ]
  },
  {
   "cell_type": "code",
   "execution_count": null,
   "id": "203f7aa8-3331-4da8-a68b-20a45e275f28",
   "metadata": {},
   "outputs": [],
   "source": [
    "import os\n",
    "import getpass\n",
    "if not os.getenv(\"TOGETHER_API_KEY\"):\n",
    "    os.environ[\"TOGETHER_API_KEY\"] = \"45cc35a9dc8621b295401d3b841e56b82afef4d426a90e3c2f72fde63927ab92\"\n",
    "\n",
    "# Initialize the TogetherEmbeddings model\n",
    "embeddings = TogetherEmbeddings(\n",
    "    model=\"togethercomputer/m2-bert-80M-8k-retrieval\"  # Example model; check docs for Llama-based alternatives\n",
    ")"
   ]
  },
  {
   "cell_type": "code",
   "execution_count": null,
   "id": "dda0d8d0-5480-4635-b100-90c9a699ac90",
   "metadata": {},
   "outputs": [],
   "source": [
    "pip install pinecone"
   ]
  },
  {
   "cell_type": "markdown",
   "id": "adf352e3-6d54-450a-a0e0-c7000260be4b",
   "metadata": {},
   "source": [
    "# Create embeddings for all reviews - this will take close to 1.5 - 2 hours"
   ]
  },
  {
   "cell_type": "code",
   "execution_count": null,
   "id": "d8a198fe-fd5a-4d5b-9934-8c7b1ea8667e",
   "metadata": {},
   "outputs": [],
   "source": [
    "reviews = df[\"Review\"].tolist()\n",
    "\n",
    "# Process embeddings in batches\n",
    "embedding_list = []\n",
    "for i in range(0, len(reviews), 128):\n",
    "    batch = reviews[i : i + 128]  # Get batch\n",
    "    batch_embeddings = embeddings.embed_documents(batch)  # Generate embeddings for batch\n",
    "    embedding_list.extend(batch_embeddings)  # Store results\n",
    "    print(f\"Processed {i + len(batch)} / {len(reviews)} reviews\")"
   ]
  },
  {
   "cell_type": "code",
   "execution_count": 10,
   "id": "244ff6f5-a350-473d-8314-63bf51f5cf00",
   "metadata": {},
   "outputs": [],
   "source": [
    "metadata_list = df.apply(lambda row: {\n",
    "    \"customer_id\": int(row[\"customer_id\"]),\n",
    "    \"review_date\": row[\"review_date_numeric\"],\n",
    "    \"Rating\": int(row[\"Rating\"]),\n",
    "    \"review_id\":row['review_id']\n",
    "}, axis=1).tolist()"
   ]
  },
  {
   "cell_type": "code",
   "execution_count": 11,
   "id": "06d75c91-aba0-4dd0-8186-484545aa7d90",
   "metadata": {},
   "outputs": [
    {
     "data": {
      "text/plain": [
       "{'customer_id': 5380, 'review_date': 20241104, 'Rating': 6, 'review_id': 11722}"
      ]
     },
     "execution_count": 11,
     "metadata": {},
     "output_type": "execute_result"
    }
   ],
   "source": [
    "metadata_list[0]"
   ]
  },
  {
   "cell_type": "code",
   "execution_count": 12,
   "id": "14ba5b7d-9f25-4e58-854b-27e5646c5a2e",
   "metadata": {},
   "outputs": [],
   "source": [
    "from pinecone import Pinecone, ServerlessSpec\n",
    "\n",
    "pc = Pinecone(\n",
    "    api_key='pcsk_3GJ2wg_R6FhBarLn8wJNR1rqTvUv8FNkwkXSa4V2cujUrVGW3uadaw6YXLtQAWVhBMTMp9'\n",
    ")"
   ]
  },
  {
   "cell_type": "markdown",
   "id": "28da6868-8738-4212-b6bb-6ee0068af5e8",
   "metadata": {},
   "source": [
    "# Check whether any indexes already exist"
   ]
  },
  {
   "cell_type": "code",
   "execution_count": 14,
   "id": "7f089a1c-0f94-4bea-b0b3-9f71edf7b32f",
   "metadata": {},
   "outputs": [],
   "source": [
    "pc.list_indexes()\n",
    "if \"reviews-index\" in pc.list_indexes().names():\n",
    "    pc.delete_index(\"reviews-index\")\n",
    "\n"
   ]
  },
  {
   "cell_type": "code",
   "execution_count": 16,
   "id": "b9cc2e5b",
   "metadata": {},
   "outputs": [
    {
     "data": {
      "text/plain": [
       "[\n",
       "    {\n",
       "        \"name\": \"hotel-reviews\",\n",
       "        \"metric\": \"cosine\",\n",
       "        \"host\": \"hotel-reviews-izeoe32.svc.aped-4627-b74a.pinecone.io\",\n",
       "        \"spec\": {\n",
       "            \"serverless\": {\n",
       "                \"cloud\": \"aws\",\n",
       "                \"region\": \"us-east-1\"\n",
       "            }\n",
       "        },\n",
       "        \"status\": {\n",
       "            \"ready\": true,\n",
       "            \"state\": \"Ready\"\n",
       "        },\n",
       "        \"vector_type\": \"dense\",\n",
       "        \"dimension\": 768,\n",
       "        \"deletion_protection\": \"enabled\",\n",
       "        \"tags\": null\n",
       "    }\n",
       "]"
      ]
     },
     "execution_count": 16,
     "metadata": {},
     "output_type": "execute_result"
    }
   ],
   "source": [
    "pc.list_indexes()"
   ]
  },
  {
   "cell_type": "markdown",
   "id": "51971b6c-e95d-4325-a129-c91346eb4d4b",
   "metadata": {},
   "source": [
    "# create the index"
   ]
  },
  {
   "cell_type": "code",
   "execution_count": 15,
   "id": "ee91521d-d8ab-4cb1-8925-26278832f9c5",
   "metadata": {},
   "outputs": [
    {
     "ename": "PineconeApiException",
     "evalue": "(409)\nReason: Conflict\nHTTP response headers: HTTPHeaderDict({'content-type': 'text/plain; charset=utf-8', 'access-control-allow-origin': '*', 'vary': 'origin,access-control-request-method,access-control-request-headers', 'access-control-expose-headers': '*', 'x-pinecone-api-version': '2025-01', 'X-Cloud-Trace-Context': '334ec1c22b72047551f62737197d5b28', 'Date': 'Sat, 15 Mar 2025 02:46:23 GMT', 'Server': 'Google Frontend', 'Content-Length': '85', 'Via': '1.1 google', 'Alt-Svc': 'h3=\":443\"; ma=2592000,h3-29=\":443\"; ma=2592000'})\nHTTP response body: {\"error\":{\"code\":\"ALREADY_EXISTS\",\"message\":\"Resource  already exists\"},\"status\":409}\n",
     "output_type": "error",
     "traceback": [
      "\u001b[1;31m---------------------------------------------------------------------------\u001b[0m",
      "\u001b[1;31mPineconeApiException\u001b[0m                      Traceback (most recent call last)",
      "Cell \u001b[1;32mIn[15], line 1\u001b[0m\n\u001b[1;32m----> 1\u001b[0m pc\u001b[38;5;241m.\u001b[39mcreate_index(\n\u001b[0;32m      2\u001b[0m     name\u001b[38;5;241m=\u001b[39m\u001b[38;5;124m'\u001b[39m\u001b[38;5;124mhotel-reviews\u001b[39m\u001b[38;5;124m'\u001b[39m,\n\u001b[0;32m      3\u001b[0m     dimension\u001b[38;5;241m=\u001b[39m\u001b[38;5;241m768\u001b[39m,\n\u001b[0;32m      4\u001b[0m     metric\u001b[38;5;241m=\u001b[39m\u001b[38;5;124m'\u001b[39m\u001b[38;5;124mcosine\u001b[39m\u001b[38;5;124m'\u001b[39m,\n\u001b[0;32m      5\u001b[0m     deletion_protection\u001b[38;5;241m=\u001b[39m\u001b[38;5;124m'\u001b[39m\u001b[38;5;124menabled\u001b[39m\u001b[38;5;124m'\u001b[39m,\n\u001b[0;32m      6\u001b[0m     spec\u001b[38;5;241m=\u001b[39mServerlessSpec(\n\u001b[0;32m      7\u001b[0m         cloud\u001b[38;5;241m=\u001b[39m\u001b[38;5;124m'\u001b[39m\u001b[38;5;124maws\u001b[39m\u001b[38;5;124m'\u001b[39m,\n\u001b[0;32m      8\u001b[0m         region\u001b[38;5;241m=\u001b[39m\u001b[38;5;124m'\u001b[39m\u001b[38;5;124mus-east-1\u001b[39m\u001b[38;5;124m'\u001b[39m\n\u001b[0;32m      9\u001b[0m     )\n\u001b[0;32m     10\u001b[0m )\n",
      "File \u001b[1;32mc:\\Users\\LENOVO\\anaconda3\\Lib\\site-packages\\pinecone\\control\\pinecone.py:143\u001b[0m, in \u001b[0;36mPinecone.create_index\u001b[1;34m(self, name, spec, dimension, metric, timeout, deletion_protection, vector_type, tags)\u001b[0m\n\u001b[0;32m    123\u001b[0m \u001b[38;5;28;01mdef\u001b[39;00m \u001b[38;5;21mcreate_index\u001b[39m(\n\u001b[0;32m    124\u001b[0m     \u001b[38;5;28mself\u001b[39m,\n\u001b[0;32m    125\u001b[0m     name: \u001b[38;5;28mstr\u001b[39m,\n\u001b[1;32m   (...)\u001b[0m\n\u001b[0;32m    132\u001b[0m     tags: Optional[Dict[\u001b[38;5;28mstr\u001b[39m, \u001b[38;5;28mstr\u001b[39m]] \u001b[38;5;241m=\u001b[39m \u001b[38;5;28;01mNone\u001b[39;00m,\n\u001b[0;32m    133\u001b[0m ) \u001b[38;5;241m-\u001b[39m\u001b[38;5;241m>\u001b[39m IndexModel:\n\u001b[0;32m    134\u001b[0m     req \u001b[38;5;241m=\u001b[39m PineconeDBControlRequestFactory\u001b[38;5;241m.\u001b[39mcreate_index_request(\n\u001b[0;32m    135\u001b[0m         name\u001b[38;5;241m=\u001b[39mname,\n\u001b[0;32m    136\u001b[0m         spec\u001b[38;5;241m=\u001b[39mspec,\n\u001b[1;32m   (...)\u001b[0m\n\u001b[0;32m    141\u001b[0m         tags\u001b[38;5;241m=\u001b[39mtags,\n\u001b[0;32m    142\u001b[0m     )\n\u001b[1;32m--> 143\u001b[0m     resp \u001b[38;5;241m=\u001b[39m \u001b[38;5;28mself\u001b[39m\u001b[38;5;241m.\u001b[39mindex_api\u001b[38;5;241m.\u001b[39mcreate_index(create_index_request\u001b[38;5;241m=\u001b[39mreq)\n\u001b[0;32m    145\u001b[0m     \u001b[38;5;28;01mif\u001b[39;00m timeout \u001b[38;5;241m==\u001b[39m \u001b[38;5;241m-\u001b[39m\u001b[38;5;241m1\u001b[39m:\n\u001b[0;32m    146\u001b[0m         \u001b[38;5;28;01mreturn\u001b[39;00m IndexModel(resp)\n",
      "File \u001b[1;32mc:\\Users\\LENOVO\\anaconda3\\Lib\\site-packages\\pinecone\\openapi_support\\endpoint.py:102\u001b[0m, in \u001b[0;36mEndpoint.__call__\u001b[1;34m(self, *args, **kwargs)\u001b[0m\n\u001b[0;32m     91\u001b[0m \u001b[38;5;28;01mdef\u001b[39;00m \u001b[38;5;21m__call__\u001b[39m(\u001b[38;5;28mself\u001b[39m, \u001b[38;5;241m*\u001b[39margs, \u001b[38;5;241m*\u001b[39m\u001b[38;5;241m*\u001b[39mkwargs):\n\u001b[0;32m     92\u001b[0m \u001b[38;5;250m    \u001b[39m\u001b[38;5;124;03m\"\"\"This method is invoked when endpoints are called\u001b[39;00m\n\u001b[0;32m     93\u001b[0m \u001b[38;5;124;03m    Example:\u001b[39;00m\n\u001b[0;32m     94\u001b[0m \n\u001b[1;32m   (...)\u001b[0m\n\u001b[0;32m    100\u001b[0m \n\u001b[0;32m    101\u001b[0m \u001b[38;5;124;03m    \"\"\"\u001b[39;00m\n\u001b[1;32m--> 102\u001b[0m     \u001b[38;5;28;01mreturn\u001b[39;00m \u001b[38;5;28mself\u001b[39m\u001b[38;5;241m.\u001b[39mcallable(\u001b[38;5;28mself\u001b[39m, \u001b[38;5;241m*\u001b[39margs, \u001b[38;5;241m*\u001b[39m\u001b[38;5;241m*\u001b[39mkwargs)\n",
      "File \u001b[1;32mc:\\Users\\LENOVO\\anaconda3\\Lib\\site-packages\\pinecone\\core\\openapi\\db_control\\api\\manage_indexes_api.py:235\u001b[0m, in \u001b[0;36mManageIndexesApi.__init__.<locals>.__create_index\u001b[1;34m(self, create_index_request, **kwargs)\u001b[0m\n\u001b[0;32m    233\u001b[0m kwargs \u001b[38;5;241m=\u001b[39m \u001b[38;5;28mself\u001b[39m\u001b[38;5;241m.\u001b[39m_process_openapi_kwargs(kwargs)\n\u001b[0;32m    234\u001b[0m kwargs[\u001b[38;5;124m\"\u001b[39m\u001b[38;5;124mcreate_index_request\u001b[39m\u001b[38;5;124m\"\u001b[39m] \u001b[38;5;241m=\u001b[39m create_index_request\n\u001b[1;32m--> 235\u001b[0m \u001b[38;5;28;01mreturn\u001b[39;00m \u001b[38;5;28mself\u001b[39m\u001b[38;5;241m.\u001b[39mcall_with_http_info(\u001b[38;5;241m*\u001b[39m\u001b[38;5;241m*\u001b[39mkwargs)\n",
      "File \u001b[1;32mc:\\Users\\LENOVO\\anaconda3\\Lib\\site-packages\\pinecone\\openapi_support\\endpoint.py:134\u001b[0m, in \u001b[0;36mEndpoint.call_with_http_info\u001b[1;34m(self, **kwargs)\u001b[0m\n\u001b[0;32m    124\u001b[0m params \u001b[38;5;241m=\u001b[39m EndpointUtils\u001b[38;5;241m.\u001b[39mgather_params(\n\u001b[0;32m    125\u001b[0m     attribute_map\u001b[38;5;241m=\u001b[39m\u001b[38;5;28mself\u001b[39m\u001b[38;5;241m.\u001b[39mattribute_map,\n\u001b[0;32m    126\u001b[0m     location_map\u001b[38;5;241m=\u001b[39m\u001b[38;5;28mself\u001b[39m\u001b[38;5;241m.\u001b[39mlocation_map,\n\u001b[1;32m   (...)\u001b[0m\n\u001b[0;32m    129\u001b[0m     kwargs\u001b[38;5;241m=\u001b[39mkwargs,\n\u001b[0;32m    130\u001b[0m )\n\u001b[0;32m    132\u001b[0m HeaderUtil\u001b[38;5;241m.\u001b[39mprepare_headers(headers_map\u001b[38;5;241m=\u001b[39m\u001b[38;5;28mself\u001b[39m\u001b[38;5;241m.\u001b[39mheaders_map, params\u001b[38;5;241m=\u001b[39mparams)\n\u001b[1;32m--> 134\u001b[0m \u001b[38;5;28;01mreturn\u001b[39;00m \u001b[38;5;28mself\u001b[39m\u001b[38;5;241m.\u001b[39mapi_client\u001b[38;5;241m.\u001b[39mcall_api(\n\u001b[0;32m    135\u001b[0m     \u001b[38;5;28mself\u001b[39m\u001b[38;5;241m.\u001b[39msettings[\u001b[38;5;124m\"\u001b[39m\u001b[38;5;124mendpoint_path\u001b[39m\u001b[38;5;124m\"\u001b[39m],\n\u001b[0;32m    136\u001b[0m     \u001b[38;5;28mself\u001b[39m\u001b[38;5;241m.\u001b[39msettings[\u001b[38;5;124m\"\u001b[39m\u001b[38;5;124mhttp_method\u001b[39m\u001b[38;5;124m\"\u001b[39m],\n\u001b[0;32m    137\u001b[0m     path_params\u001b[38;5;241m=\u001b[39mparams[\u001b[38;5;124m\"\u001b[39m\u001b[38;5;124mpath\u001b[39m\u001b[38;5;124m\"\u001b[39m],\n\u001b[0;32m    138\u001b[0m     query_params\u001b[38;5;241m=\u001b[39mparams[\u001b[38;5;124m\"\u001b[39m\u001b[38;5;124mquery\u001b[39m\u001b[38;5;124m\"\u001b[39m],\n\u001b[0;32m    139\u001b[0m     header_params\u001b[38;5;241m=\u001b[39mparams[\u001b[38;5;124m\"\u001b[39m\u001b[38;5;124mheader\u001b[39m\u001b[38;5;124m\"\u001b[39m],\n\u001b[0;32m    140\u001b[0m     body\u001b[38;5;241m=\u001b[39mparams[\u001b[38;5;124m\"\u001b[39m\u001b[38;5;124mbody\u001b[39m\u001b[38;5;124m\"\u001b[39m],\n\u001b[0;32m    141\u001b[0m     post_params\u001b[38;5;241m=\u001b[39mparams[\u001b[38;5;124m\"\u001b[39m\u001b[38;5;124mform\u001b[39m\u001b[38;5;124m\"\u001b[39m],\n\u001b[0;32m    142\u001b[0m     files\u001b[38;5;241m=\u001b[39mparams[\u001b[38;5;124m\"\u001b[39m\u001b[38;5;124mfile\u001b[39m\u001b[38;5;124m\"\u001b[39m],\n\u001b[0;32m    143\u001b[0m     response_type\u001b[38;5;241m=\u001b[39m\u001b[38;5;28mself\u001b[39m\u001b[38;5;241m.\u001b[39msettings[\u001b[38;5;124m\"\u001b[39m\u001b[38;5;124mresponse_type\u001b[39m\u001b[38;5;124m\"\u001b[39m],\n\u001b[0;32m    144\u001b[0m     auth_settings\u001b[38;5;241m=\u001b[39m\u001b[38;5;28mself\u001b[39m\u001b[38;5;241m.\u001b[39msettings[\u001b[38;5;124m\"\u001b[39m\u001b[38;5;124mauth\u001b[39m\u001b[38;5;124m\"\u001b[39m],\n\u001b[0;32m    145\u001b[0m     async_req\u001b[38;5;241m=\u001b[39mkwargs[\u001b[38;5;124m\"\u001b[39m\u001b[38;5;124masync_req\u001b[39m\u001b[38;5;124m\"\u001b[39m],\n\u001b[0;32m    146\u001b[0m     async_threadpool_executor\u001b[38;5;241m=\u001b[39mkwargs\u001b[38;5;241m.\u001b[39mget(\u001b[38;5;124m\"\u001b[39m\u001b[38;5;124masync_threadpool_executor\u001b[39m\u001b[38;5;124m\"\u001b[39m, \u001b[38;5;28;01mNone\u001b[39;00m),\n\u001b[0;32m    147\u001b[0m     _check_type\u001b[38;5;241m=\u001b[39mkwargs[\u001b[38;5;124m\"\u001b[39m\u001b[38;5;124m_check_return_type\u001b[39m\u001b[38;5;124m\"\u001b[39m],\n\u001b[0;32m    148\u001b[0m     _return_http_data_only\u001b[38;5;241m=\u001b[39mkwargs[\u001b[38;5;124m\"\u001b[39m\u001b[38;5;124m_return_http_data_only\u001b[39m\u001b[38;5;124m\"\u001b[39m],\n\u001b[0;32m    149\u001b[0m     _preload_content\u001b[38;5;241m=\u001b[39mkwargs[\u001b[38;5;124m\"\u001b[39m\u001b[38;5;124m_preload_content\u001b[39m\u001b[38;5;124m\"\u001b[39m],\n\u001b[0;32m    150\u001b[0m     _request_timeout\u001b[38;5;241m=\u001b[39mkwargs[\u001b[38;5;124m\"\u001b[39m\u001b[38;5;124m_request_timeout\u001b[39m\u001b[38;5;124m\"\u001b[39m],\n\u001b[0;32m    151\u001b[0m     _host\u001b[38;5;241m=\u001b[39m_host,\n\u001b[0;32m    152\u001b[0m     collection_formats\u001b[38;5;241m=\u001b[39mparams[\u001b[38;5;124m\"\u001b[39m\u001b[38;5;124mcollection_format\u001b[39m\u001b[38;5;124m\"\u001b[39m],\n\u001b[0;32m    153\u001b[0m )\n",
      "File \u001b[1;32mc:\\Users\\LENOVO\\anaconda3\\Lib\\site-packages\\pinecone\\openapi_support\\api_client.py:300\u001b[0m, in \u001b[0;36mApiClient.call_api\u001b[1;34m(self, resource_path, method, path_params, query_params, header_params, body, post_params, files, response_type, auth_settings, async_req, async_threadpool_executor, _return_http_data_only, collection_formats, _preload_content, _request_timeout, _host, _check_type)\u001b[0m\n\u001b[0;32m    279\u001b[0m     \u001b[38;5;28;01mreturn\u001b[39;00m \u001b[38;5;28mself\u001b[39m\u001b[38;5;241m.\u001b[39mthreadpool_executor\u001b[38;5;241m.\u001b[39msubmit(\n\u001b[0;32m    280\u001b[0m         \u001b[38;5;28mself\u001b[39m\u001b[38;5;241m.\u001b[39m__call_api,\n\u001b[0;32m    281\u001b[0m         resource_path,\n\u001b[1;32m   (...)\u001b[0m\n\u001b[0;32m    296\u001b[0m         _check_type,\n\u001b[0;32m    297\u001b[0m     )\n\u001b[0;32m    299\u001b[0m \u001b[38;5;28;01mif\u001b[39;00m \u001b[38;5;129;01mnot\u001b[39;00m async_req:\n\u001b[1;32m--> 300\u001b[0m     \u001b[38;5;28;01mreturn\u001b[39;00m \u001b[38;5;28mself\u001b[39m\u001b[38;5;241m.\u001b[39m__call_api(\n\u001b[0;32m    301\u001b[0m         resource_path,\n\u001b[0;32m    302\u001b[0m         method,\n\u001b[0;32m    303\u001b[0m         path_params,\n\u001b[0;32m    304\u001b[0m         query_params,\n\u001b[0;32m    305\u001b[0m         header_params,\n\u001b[0;32m    306\u001b[0m         body,\n\u001b[0;32m    307\u001b[0m         post_params,\n\u001b[0;32m    308\u001b[0m         files,\n\u001b[0;32m    309\u001b[0m         response_type,\n\u001b[0;32m    310\u001b[0m         auth_settings,\n\u001b[0;32m    311\u001b[0m         _return_http_data_only,\n\u001b[0;32m    312\u001b[0m         collection_formats,\n\u001b[0;32m    313\u001b[0m         _preload_content,\n\u001b[0;32m    314\u001b[0m         _request_timeout,\n\u001b[0;32m    315\u001b[0m         _host,\n\u001b[0;32m    316\u001b[0m         _check_type,\n\u001b[0;32m    317\u001b[0m     )\n\u001b[0;32m    319\u001b[0m \u001b[38;5;28;01mreturn\u001b[39;00m \u001b[38;5;28mself\u001b[39m\u001b[38;5;241m.\u001b[39mpool\u001b[38;5;241m.\u001b[39mapply_async(\n\u001b[0;32m    320\u001b[0m     \u001b[38;5;28mself\u001b[39m\u001b[38;5;241m.\u001b[39m__call_api,\n\u001b[0;32m    321\u001b[0m     (\n\u001b[1;32m   (...)\u001b[0m\n\u001b[0;32m    338\u001b[0m     ),\n\u001b[0;32m    339\u001b[0m )\n",
      "File \u001b[1;32mc:\\Users\\LENOVO\\anaconda3\\Lib\\site-packages\\pinecone\\openapi_support\\api_client.py:178\u001b[0m, in \u001b[0;36mApiClient.__call_api\u001b[1;34m(self, resource_path, method, path_params, query_params, header_params, body, post_params, files, response_type, auth_settings, _return_http_data_only, collection_formats, _preload_content, _request_timeout, _host, _check_type)\u001b[0m\n\u001b[0;32m    176\u001b[0m \u001b[38;5;28;01mexcept\u001b[39;00m PineconeApiException \u001b[38;5;28;01mas\u001b[39;00m e:\n\u001b[0;32m    177\u001b[0m     e\u001b[38;5;241m.\u001b[39mbody \u001b[38;5;241m=\u001b[39m e\u001b[38;5;241m.\u001b[39mbody\u001b[38;5;241m.\u001b[39mdecode(\u001b[38;5;124m\"\u001b[39m\u001b[38;5;124mutf-8\u001b[39m\u001b[38;5;124m\"\u001b[39m)\n\u001b[1;32m--> 178\u001b[0m     \u001b[38;5;28;01mraise\u001b[39;00m e\n\u001b[0;32m    180\u001b[0m \u001b[38;5;28mself\u001b[39m\u001b[38;5;241m.\u001b[39mlast_response \u001b[38;5;241m=\u001b[39m response_data\n\u001b[0;32m    182\u001b[0m return_data \u001b[38;5;241m=\u001b[39m response_data\n",
      "File \u001b[1;32mc:\\Users\\LENOVO\\anaconda3\\Lib\\site-packages\\pinecone\\openapi_support\\api_client.py:166\u001b[0m, in \u001b[0;36mApiClient.__call_api\u001b[1;34m(self, resource_path, method, path_params, query_params, header_params, body, post_params, files, response_type, auth_settings, _return_http_data_only, collection_formats, _preload_content, _request_timeout, _host, _check_type)\u001b[0m\n\u001b[0;32m    157\u001b[0m url \u001b[38;5;241m=\u001b[39m build_request_url(\n\u001b[0;32m    158\u001b[0m     config\u001b[38;5;241m=\u001b[39mconfig,\n\u001b[0;32m    159\u001b[0m     processed_path_params\u001b[38;5;241m=\u001b[39mpath_params_tuple,\n\u001b[0;32m    160\u001b[0m     resource_path\u001b[38;5;241m=\u001b[39mresource_path,\n\u001b[0;32m    161\u001b[0m     _host\u001b[38;5;241m=\u001b[39m_host,\n\u001b[0;32m    162\u001b[0m )\n\u001b[0;32m    164\u001b[0m \u001b[38;5;28;01mtry\u001b[39;00m:\n\u001b[0;32m    165\u001b[0m     \u001b[38;5;66;03m# perform request and return response\u001b[39;00m\n\u001b[1;32m--> 166\u001b[0m     response_data \u001b[38;5;241m=\u001b[39m \u001b[38;5;28mself\u001b[39m\u001b[38;5;241m.\u001b[39mrequest(\n\u001b[0;32m    167\u001b[0m         method,\n\u001b[0;32m    168\u001b[0m         url,\n\u001b[0;32m    169\u001b[0m         query_params\u001b[38;5;241m=\u001b[39mprocessed_query_params,\n\u001b[0;32m    170\u001b[0m         headers\u001b[38;5;241m=\u001b[39mheaders_tuple,\n\u001b[0;32m    171\u001b[0m         post_params\u001b[38;5;241m=\u001b[39mprocessed_post_params,\n\u001b[0;32m    172\u001b[0m         body\u001b[38;5;241m=\u001b[39mbody,\n\u001b[0;32m    173\u001b[0m         _preload_content\u001b[38;5;241m=\u001b[39m_preload_content,\n\u001b[0;32m    174\u001b[0m         _request_timeout\u001b[38;5;241m=\u001b[39m_request_timeout,\n\u001b[0;32m    175\u001b[0m     )\n\u001b[0;32m    176\u001b[0m \u001b[38;5;28;01mexcept\u001b[39;00m PineconeApiException \u001b[38;5;28;01mas\u001b[39;00m e:\n\u001b[0;32m    177\u001b[0m     e\u001b[38;5;241m.\u001b[39mbody \u001b[38;5;241m=\u001b[39m e\u001b[38;5;241m.\u001b[39mbody\u001b[38;5;241m.\u001b[39mdecode(\u001b[38;5;124m\"\u001b[39m\u001b[38;5;124mutf-8\u001b[39m\u001b[38;5;124m\"\u001b[39m)\n",
      "File \u001b[1;32mc:\\Users\\LENOVO\\anaconda3\\Lib\\site-packages\\pinecone\\openapi_support\\api_client.py:380\u001b[0m, in \u001b[0;36mApiClient.request\u001b[1;34m(self, method, url, query_params, headers, post_params, body, _preload_content, _request_timeout)\u001b[0m\n\u001b[0;32m    370\u001b[0m     \u001b[38;5;28;01mreturn\u001b[39;00m \u001b[38;5;28mself\u001b[39m\u001b[38;5;241m.\u001b[39mrest_client\u001b[38;5;241m.\u001b[39mOPTIONS(\n\u001b[0;32m    371\u001b[0m         url,\n\u001b[0;32m    372\u001b[0m         query_params\u001b[38;5;241m=\u001b[39mquery_params,\n\u001b[1;32m   (...)\u001b[0m\n\u001b[0;32m    377\u001b[0m         body\u001b[38;5;241m=\u001b[39mbody,\n\u001b[0;32m    378\u001b[0m     )\n\u001b[0;32m    379\u001b[0m \u001b[38;5;28;01melif\u001b[39;00m method \u001b[38;5;241m==\u001b[39m \u001b[38;5;124m\"\u001b[39m\u001b[38;5;124mPOST\u001b[39m\u001b[38;5;124m\"\u001b[39m:\n\u001b[1;32m--> 380\u001b[0m     \u001b[38;5;28;01mreturn\u001b[39;00m \u001b[38;5;28mself\u001b[39m\u001b[38;5;241m.\u001b[39mrest_client\u001b[38;5;241m.\u001b[39mPOST(\n\u001b[0;32m    381\u001b[0m         url,\n\u001b[0;32m    382\u001b[0m         query_params\u001b[38;5;241m=\u001b[39mquery_params,\n\u001b[0;32m    383\u001b[0m         headers\u001b[38;5;241m=\u001b[39mheaders,\n\u001b[0;32m    384\u001b[0m         post_params\u001b[38;5;241m=\u001b[39mpost_params,\n\u001b[0;32m    385\u001b[0m         _preload_content\u001b[38;5;241m=\u001b[39m_preload_content,\n\u001b[0;32m    386\u001b[0m         _request_timeout\u001b[38;5;241m=\u001b[39m_request_timeout,\n\u001b[0;32m    387\u001b[0m         body\u001b[38;5;241m=\u001b[39mbody,\n\u001b[0;32m    388\u001b[0m     )\n\u001b[0;32m    389\u001b[0m \u001b[38;5;28;01melif\u001b[39;00m method \u001b[38;5;241m==\u001b[39m \u001b[38;5;124m\"\u001b[39m\u001b[38;5;124mPUT\u001b[39m\u001b[38;5;124m\"\u001b[39m:\n\u001b[0;32m    390\u001b[0m     \u001b[38;5;28;01mreturn\u001b[39;00m \u001b[38;5;28mself\u001b[39m\u001b[38;5;241m.\u001b[39mrest_client\u001b[38;5;241m.\u001b[39mPUT(\n\u001b[0;32m    391\u001b[0m         url,\n\u001b[0;32m    392\u001b[0m         query_params\u001b[38;5;241m=\u001b[39mquery_params,\n\u001b[1;32m   (...)\u001b[0m\n\u001b[0;32m    397\u001b[0m         body\u001b[38;5;241m=\u001b[39mbody,\n\u001b[0;32m    398\u001b[0m     )\n",
      "File \u001b[1;32mc:\\Users\\LENOVO\\anaconda3\\Lib\\site-packages\\pinecone\\openapi_support\\rest_utils.py:146\u001b[0m, in \u001b[0;36mRestClientInterface.POST\u001b[1;34m(self, url, headers, query_params, post_params, body, _preload_content, _request_timeout)\u001b[0m\n\u001b[0;32m    136\u001b[0m \u001b[38;5;28;01mdef\u001b[39;00m \u001b[38;5;21mPOST\u001b[39m(\n\u001b[0;32m    137\u001b[0m     \u001b[38;5;28mself\u001b[39m,\n\u001b[0;32m    138\u001b[0m     url,\n\u001b[1;32m   (...)\u001b[0m\n\u001b[0;32m    144\u001b[0m     _request_timeout\u001b[38;5;241m=\u001b[39m\u001b[38;5;28;01mNone\u001b[39;00m,\n\u001b[0;32m    145\u001b[0m ):\n\u001b[1;32m--> 146\u001b[0m     \u001b[38;5;28;01mreturn\u001b[39;00m \u001b[38;5;28mself\u001b[39m\u001b[38;5;241m.\u001b[39mrequest(\n\u001b[0;32m    147\u001b[0m         \u001b[38;5;124m\"\u001b[39m\u001b[38;5;124mPOST\u001b[39m\u001b[38;5;124m\"\u001b[39m,\n\u001b[0;32m    148\u001b[0m         url,\n\u001b[0;32m    149\u001b[0m         headers\u001b[38;5;241m=\u001b[39mheaders,\n\u001b[0;32m    150\u001b[0m         query_params\u001b[38;5;241m=\u001b[39mquery_params,\n\u001b[0;32m    151\u001b[0m         post_params\u001b[38;5;241m=\u001b[39mpost_params,\n\u001b[0;32m    152\u001b[0m         _preload_content\u001b[38;5;241m=\u001b[39m_preload_content,\n\u001b[0;32m    153\u001b[0m         _request_timeout\u001b[38;5;241m=\u001b[39m_request_timeout,\n\u001b[0;32m    154\u001b[0m         body\u001b[38;5;241m=\u001b[39mbody,\n\u001b[0;32m    155\u001b[0m     )\n",
      "File \u001b[1;32mc:\\Users\\LENOVO\\anaconda3\\Lib\\site-packages\\pinecone\\openapi_support\\rest_urllib3.py:260\u001b[0m, in \u001b[0;36mUrllib3RestClient.request\u001b[1;34m(self, method, url, query_params, headers, body, post_params, _preload_content, _request_timeout)\u001b[0m\n\u001b[0;32m    257\u001b[0m     \u001b[38;5;66;03m# log response body\u001b[39;00m\n\u001b[0;32m    258\u001b[0m     logger\u001b[38;5;241m.\u001b[39mdebug(\u001b[38;5;124m\"\u001b[39m\u001b[38;5;124mresponse body: \u001b[39m\u001b[38;5;132;01m%s\u001b[39;00m\u001b[38;5;124m\"\u001b[39m, r\u001b[38;5;241m.\u001b[39mdata)\n\u001b[1;32m--> 260\u001b[0m \u001b[38;5;28;01mreturn\u001b[39;00m raise_exceptions_or_return(r)\n",
      "File \u001b[1;32mc:\\Users\\LENOVO\\anaconda3\\Lib\\site-packages\\pinecone\\openapi_support\\rest_utils.py:49\u001b[0m, in \u001b[0;36mraise_exceptions_or_return\u001b[1;34m(r)\u001b[0m\n\u001b[0;32m     46\u001b[0m     \u001b[38;5;28;01mif\u001b[39;00m \u001b[38;5;241m500\u001b[39m \u001b[38;5;241m<\u001b[39m\u001b[38;5;241m=\u001b[39m r\u001b[38;5;241m.\u001b[39mstatus \u001b[38;5;241m<\u001b[39m\u001b[38;5;241m=\u001b[39m \u001b[38;5;241m599\u001b[39m:\n\u001b[0;32m     47\u001b[0m         \u001b[38;5;28;01mraise\u001b[39;00m ServiceException(http_resp\u001b[38;5;241m=\u001b[39mr)\n\u001b[1;32m---> 49\u001b[0m     \u001b[38;5;28;01mraise\u001b[39;00m PineconeApiException(http_resp\u001b[38;5;241m=\u001b[39mr)\n\u001b[0;32m     51\u001b[0m \u001b[38;5;28;01mreturn\u001b[39;00m r\n",
      "\u001b[1;31mPineconeApiException\u001b[0m: (409)\nReason: Conflict\nHTTP response headers: HTTPHeaderDict({'content-type': 'text/plain; charset=utf-8', 'access-control-allow-origin': '*', 'vary': 'origin,access-control-request-method,access-control-request-headers', 'access-control-expose-headers': '*', 'x-pinecone-api-version': '2025-01', 'X-Cloud-Trace-Context': '334ec1c22b72047551f62737197d5b28', 'Date': 'Sat, 15 Mar 2025 02:46:23 GMT', 'Server': 'Google Frontend', 'Content-Length': '85', 'Via': '1.1 google', 'Alt-Svc': 'h3=\":443\"; ma=2592000,h3-29=\":443\"; ma=2592000'})\nHTTP response body: {\"error\":{\"code\":\"ALREADY_EXISTS\",\"message\":\"Resource  already exists\"},\"status\":409}\n"
     ]
    }
   ],
   "source": [
    "pc.create_index(\n",
    "    name='hotel-reviews',\n",
    "    dimension=768,\n",
    "    metric='cosine',\n",
    "    deletion_protection='enabled',\n",
    "    spec=ServerlessSpec(\n",
    "        cloud='aws',\n",
    "        region='us-east-1'\n",
    "    )\n",
    ")"
   ]
  },
  {
   "cell_type": "code",
   "execution_count": 21,
   "id": "a8176725-450d-4c9c-a834-2e6eb136d0c0",
   "metadata": {},
   "outputs": [],
   "source": [
    "#index = pc.Index(host=\"hotel-reviews-yug9kjl.svc.aped-4627-b74a.pinecone.io\")\n",
    "index = pc.Index(host=\"https://hotel-reviews-izeoe32.svc.aped-4627-b74a.pinecone.io\")\n"
   ]
  },
  {
   "cell_type": "code",
   "execution_count": 23,
   "id": "3f1b25d4-01f7-4cb2-bee9-d6067d959bc1",
   "metadata": {},
   "outputs": [],
   "source": [
    "vectors = [\n",
    "    (str(i), embedding, metadata_list[i])\n",
    "    for i, embedding in enumerate(embedding_list)\n",
    "]"
   ]
  },
  {
   "cell_type": "markdown",
   "id": "3eb10427-9e6b-40d0-a3f0-90bca485cb0c",
   "metadata": {},
   "source": [
    "# Insert embeddings + metadata into the index"
   ]
  },
  {
   "cell_type": "code",
   "execution_count": 24,
   "id": "7ee4f5f1-ba4e-495b-9ba2-e0cf49f1344a",
   "metadata": {},
   "outputs": [
    {
     "name": "stdout",
     "output_type": "stream",
     "text": [
      "Upserted batch from 0 to 100\n",
      "Upserted batch from 100 to 200\n",
      "Upserted batch from 200 to 300\n",
      "Upserted batch from 300 to 400\n",
      "Upserted batch from 400 to 500\n",
      "Upserted batch from 500 to 600\n",
      "Upserted batch from 600 to 700\n",
      "Upserted batch from 700 to 800\n",
      "Upserted batch from 800 to 900\n",
      "Upserted batch from 900 to 1000\n",
      "Upserted batch from 1000 to 1100\n",
      "Upserted batch from 1100 to 1200\n",
      "Upserted batch from 1200 to 1300\n",
      "Upserted batch from 1300 to 1400\n",
      "Upserted batch from 1400 to 1500\n",
      "Upserted batch from 1500 to 1600\n",
      "Upserted batch from 1600 to 1700\n",
      "Upserted batch from 1700 to 1800\n",
      "Upserted batch from 1800 to 1900\n",
      "Upserted batch from 1900 to 2000\n",
      "Upserted batch from 2000 to 2100\n",
      "Upserted batch from 2100 to 2200\n",
      "Upserted batch from 2200 to 2300\n",
      "Upserted batch from 2300 to 2400\n",
      "Upserted batch from 2400 to 2500\n",
      "Upserted batch from 2500 to 2600\n",
      "Upserted batch from 2600 to 2700\n",
      "Upserted batch from 2700 to 2800\n",
      "Upserted batch from 2800 to 2900\n",
      "Upserted batch from 2900 to 3000\n",
      "Upserted batch from 3000 to 3100\n",
      "Upserted batch from 3100 to 3200\n",
      "Upserted batch from 3200 to 3300\n",
      "Upserted batch from 3300 to 3400\n",
      "Upserted batch from 3400 to 3500\n",
      "Upserted batch from 3500 to 3600\n",
      "Upserted batch from 3600 to 3700\n",
      "Upserted batch from 3700 to 3800\n",
      "Upserted batch from 3800 to 3900\n",
      "Upserted batch from 3900 to 4000\n",
      "Upserted batch from 4000 to 4100\n",
      "Upserted batch from 4100 to 4200\n",
      "Upserted batch from 4200 to 4300\n",
      "Upserted batch from 4300 to 4400\n",
      "Upserted batch from 4400 to 4500\n",
      "Upserted batch from 4500 to 4600\n",
      "Upserted batch from 4600 to 4700\n",
      "Upserted batch from 4700 to 4800\n",
      "Upserted batch from 4800 to 4900\n",
      "Upserted batch from 4900 to 5000\n",
      "Upserted batch from 5000 to 5100\n",
      "Upserted batch from 5100 to 5200\n",
      "Upserted batch from 5200 to 5300\n",
      "Upserted batch from 5300 to 5400\n",
      "Upserted batch from 5400 to 5500\n",
      "Upserted batch from 5500 to 5600\n",
      "Upserted batch from 5600 to 5700\n",
      "Upserted batch from 5700 to 5800\n",
      "Upserted batch from 5800 to 5900\n",
      "Upserted batch from 5900 to 6000\n",
      "Upserted batch from 6000 to 6100\n",
      "Upserted batch from 6100 to 6200\n",
      "Upserted batch from 6200 to 6300\n",
      "Upserted batch from 6300 to 6400\n",
      "Upserted batch from 6400 to 6500\n",
      "Upserted batch from 6500 to 6600\n",
      "Upserted batch from 6600 to 6700\n",
      "Upserted batch from 6700 to 6800\n",
      "Upserted batch from 6800 to 6900\n",
      "Upserted batch from 6900 to 7000\n",
      "Upserted batch from 7000 to 7100\n",
      "Upserted batch from 7100 to 7200\n",
      "Upserted batch from 7200 to 7300\n",
      "Upserted batch from 7300 to 7400\n",
      "Upserted batch from 7400 to 7500\n",
      "Upserted batch from 7500 to 7600\n",
      "Upserted batch from 7600 to 7700\n",
      "Upserted batch from 7700 to 7800\n",
      "Upserted batch from 7800 to 7900\n",
      "Upserted batch from 7900 to 8000\n",
      "Upserted batch from 8000 to 8100\n",
      "Upserted batch from 8100 to 8200\n",
      "Upserted batch from 8200 to 8300\n",
      "Upserted batch from 8300 to 8390\n"
     ]
    }
   ],
   "source": [
    "batch_size = 100  # Adjust this number as needed.\n",
    "\n",
    "for i in range(0, len(embedding_list), batch_size):\n",
    "    batch_vectors = [\n",
    "        (str(i + j), embedding_list[i + j], metadata_list[i + j])\n",
    "        for j in range(min(batch_size, len(embedding_list) - i))\n",
    "    ]\n",
    "    index.upsert(vectors=batch_vectors)\n",
    "    print(f\"Upserted batch from {i} to {i + len(batch_vectors)}\")"
   ]
  },
  {
   "cell_type": "markdown",
   "id": "d6ec4a71-af28-474f-b51c-509dd38e8324",
   "metadata": {},
   "source": [
    "# experiment with below parts"
   ]
  },
  {
   "cell_type": "code",
   "execution_count": 25,
   "id": "4303db9f-a121-4ed8-99b7-015e2d612f9f",
   "metadata": {},
   "outputs": [],
   "source": [
    "query_embedding = embeddings.embed_query(\"What are some of the reviews that mention restaurant, food, lunch, breakfast, dinner\")"
   ]
  },
  {
   "cell_type": "code",
   "execution_count": 26,
   "id": "dbf07717-4240-4ed8-94ae-6a83aeedae05",
   "metadata": {},
   "outputs": [],
   "source": [
    "results = index.query(\n",
    "    vector=query_embedding,\n",
    "    top_k=5,\n",
    "    namespace=\"\",\n",
    "    include_metadata=True,\n",
    "    filter={\n",
    "        \"Rating\": {\"$lte\": 9},\n",
    "        \"review_date\": {\"$gte\": 20240101, \"$lte\": 20240108}\n",
    "    }\n",
    ")"
   ]
  },
  {
   "cell_type": "code",
   "execution_count": 27,
   "id": "7b186c59-2b48-486b-bc81-bb398520345a",
   "metadata": {},
   "outputs": [],
   "source": [
    "matches = results[\"matches\"]\n",
    "\n",
    "# Extract review_ids from the matches (convert them to int if necessary)\n",
    "matched_ids = [int(match[\"metadata\"][\"review_id\"]) for match in matches]"
   ]
  },
  {
   "cell_type": "code",
   "execution_count": 28,
   "id": "a4aef9bb-33be-49bf-92f3-b7412514c5ce",
   "metadata": {},
   "outputs": [
    {
     "data": {
      "text/plain": [
       "[5410, 8647, 11531, 2910, 2593]"
      ]
     },
     "execution_count": 28,
     "metadata": {},
     "output_type": "execute_result"
    }
   ],
   "source": [
    "matched_ids"
   ]
  },
  {
   "cell_type": "code",
   "execution_count": 29,
   "id": "88c95303-869e-4158-8f46-50f91f07f0d0",
   "metadata": {},
   "outputs": [],
   "source": [
    "req_df = df[df[\"review_id\"].isin(matched_ids)]"
   ]
  },
  {
   "cell_type": "code",
   "execution_count": 30,
   "id": "2759e5c9-9e8d-4029-9d6e-afc8e10b5214",
   "metadata": {},
   "outputs": [
    {
     "data": {
      "text/plain": [
       "486      Shower taps need descaling horrid smell from ...\n",
       "1622     The people working on the terrace bar are pre...\n",
       "2018     When we arrived to check in there was a misun...\n",
       "5794     Having to pay for one item I used in the mini...\n",
       "8249     Loved everything only negative was STK We wer...\n",
       "Name: Review, dtype: object"
      ]
     },
     "execution_count": 30,
     "metadata": {},
     "output_type": "execute_result"
    }
   ],
   "source": [
    "req_df['Review']"
   ]
  },
  {
   "cell_type": "code",
   "execution_count": 31,
   "id": "6dcc3a65-aa69-43ce-bc4a-f05032488309",
   "metadata": {},
   "outputs": [],
   "source": [
    "concatenated_reviews = \" \".join(req_df[\"Review\"].tolist())"
   ]
  },
  {
   "cell_type": "code",
   "execution_count": 32,
   "id": "dea2efd4-f14e-4f6b-af3d-2320a15382c2",
   "metadata": {},
   "outputs": [
    {
     "data": {
      "text/plain": [
       "' Shower taps need descaling horrid smell from drains the new booth seating is so unfriendly the older decor made more sense New menu card room dining not advisable limited choice of average food Tea cakes were cold from fridge so cream in the cakes was There were no more small tasty affordable snacks like the crab cakes of tandoori salmon or tatty etc Pity You lost 15 customers who went to eat elsewhere daily for 3 days   location  The people working on the terrace bar are pretty slow preparing beverages so you need to be patient awaiting your order especially when you can see quite a lot of people up there We were forced to cancel our order after 40 minutes waiting as we had another appointment planned after   The location of the hotel is just perfect 150m to Diagonal Metro station Rambla is just 300 m away So for our family tour with some sightseeing and enjoying good restaurants this was a perfect choice The hotel is very comfortable and quiet You can have rest on the terrace bar with a breathtaking view of Barcelona especially illuminated Sagrada Familia in the night   When we arrived to check in there was a misunderstanding about whether we had made full payment including breakfast Actually we had already paid everything ie breakfast hotel tax and tourist tax but the check in staff said that I had paid only for the room and nothing else Fortunately I had a credit card statement from my bank to dispute this Also luckily on the day we checked out another front desk staff Klaudios was on duty and he confirmed that I had paid for everything in advance Actually I don t think it was fair for hotel to charge us the tourist tax in advance   The front desk staff were quite helpful  Having to pay for one item I used in the mini bar They tried to say I had used two when I hadn t I understand it s London prices but for think everything was expensive and the breakfast was extortionate I think having paid nearly 300 for two nights we may have got even one free bottle of water Also think the fact you have to pay upfront for your room expected this and then 50 a night depsoit is pretty bad as it didn t state this anywhere and I could have been relying on that 100 for my weekend away however luckily I wasn t On the Sunday we went to the Chico Latino bar and we were sat waiting 20 minutes from getting there to receiving our drink Feel like it s because we weren t a big party so they weren t concentrating on the two of us as much   Amazing room with really good facilities Excellent location it was a ten minute walk to the right to Big Ben Westminster bridge London eye and to the left was a ten minutes walk to the Vauxhall tube station Didn t spend much time in the room as we were on the go for the three days we spent there The staff we re really friendly and I could tell if we had any queries or needed any help they would have more than happy to help The concierge men were so friendly and went out their way to make conversation and to make you feel welcome The hotel was sparkling clean and smelt amazing I couldn t fault one thing with regards to the appearance of the hotel and the room Also the singer on the Saturday night at Chico Latino bar was really good and enjoyed listening to him   Loved everything only negative was STK We were looking so forward to dinner there however it was like a loud club at 10pm with drunk loud folk coming in to just drink and dance Better to go for lunch as opposed to dinner  Charming helpful staff Great breakfast Loved the mood lighting and music in room too'"
      ]
     },
     "execution_count": 32,
     "metadata": {},
     "output_type": "execute_result"
    }
   ],
   "source": [
    "concatenated_reviews"
   ]
  },
  {
   "cell_type": "code",
   "execution_count": 33,
   "id": "a89e76de-311f-468a-b790-525c9821d839",
   "metadata": {},
   "outputs": [
    {
     "name": "stdout",
     "output_type": "stream",
     "text": [
      "Here is a summary of the overall sentiment of customers about food and restaurants based on these reviews:\n",
      "\n",
      "**Food and Restaurant Sentiment:**\n",
      "\n",
      "* Most customers were disappointed with the food, citing limited choice, average quality, and high prices.\n",
      "* Specific complaints included cold tea cakes, unfriendly booth seating, and a lack of affordable snacks.\n",
      "* There were some positive comments about the location and views, but these were largely overshadowed by negative reviews of the food and service.\n",
      "* The only positive review of a specific restaurant was for the singer at the Chico Latino bar, but even this was minor compared to the overall negative sentiment.\n",
      "\n",
      "**Common Issues:**\n",
      "\n",
      "* High prices and limited choice\n",
      "* Poor service, including long wait times and unfriendly staff\n",
      "* Unappealing atmosphere, including loud music and uncomfortable seating\n",
      "* Lack of affordable snacks and drinks\n",
      "\n",
      "**Standout Positives:**\n",
      "\n",
      "* None were mentioned, but the location and views of the hotel were cited as positives in a few reviews.\n",
      "\n",
      "Overall, the sentiment towards food and restaurants in these reviews is overwhelmingly negative. Customers were disappointed with the quality, service, and value of the food, and were often frustrated with the high prices and limited choice.\n"
     ]
    }
   ],
   "source": [
    "from together import Together\n",
    "import os\n",
    "client = Together()\n",
    "response = client.chat.completions.create(\n",
    "    model=\"meta-llama/Llama-Vision-Free\",\n",
    "    messages = [{\"role\": \"user\", \"content\": f\"\"\"Briefly Summarize the overall sentiment of customers about food and restaurant based on these reviews - {\n",
    "    concatenated_reviews}. Dont mention the name of the hotel\"\"\"}]\n",
    ")\n",
    "print(response.choices[0].message.content)\n"
   ]
  },
  {
   "cell_type": "code",
   "execution_count": null,
   "id": "5c4f728f-dcd1-4564-a25f-ab29f2f0c56d",
   "metadata": {},
   "outputs": [],
   "source": []
  },
  {
   "cell_type": "code",
   "execution_count": null,
   "id": "7f7444ef-28f9-4aac-80e1-7de4d8f1f7cc",
   "metadata": {},
   "outputs": [],
   "source": []
  }
 ],
 "metadata": {
  "kernelspec": {
   "display_name": "base",
   "language": "python",
   "name": "python3"
  },
  "language_info": {
   "codemirror_mode": {
    "name": "ipython",
    "version": 3
   },
   "file_extension": ".py",
   "mimetype": "text/x-python",
   "name": "python",
   "nbconvert_exporter": "python",
   "pygments_lexer": "ipython3",
   "version": "3.11.4"
  }
 },
 "nbformat": 4,
 "nbformat_minor": 5
}
